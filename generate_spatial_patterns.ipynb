{
 "cells": [
  {
   "cell_type": "code",
   "execution_count": 1,
   "metadata": {},
   "outputs": [],
   "source": [
    "import qqespm_quadtree_CGA as qq2\n",
    "import random\n",
    "import numpy as np\n",
    "import pickle"
   ]
  },
  {
   "cell_type": "code",
   "execution_count": 2,
   "metadata": {},
   "outputs": [],
   "source": [
    "def generate_pattern_from_structure(structure, candidate_keywords, qq_module, qualitative_prob, pois_df, max_complexity = 100000000):\n",
    "    vertices_ids = []\n",
    "    for e in structure:\n",
    "        vertices_ids.extend(e)\n",
    "    vertices_ids = list(set(vertices_ids))\n",
    "    \n",
    "    max_freq1, max_freq2 = float('inf'), float('inf')\n",
    "    while max_freq1 * max_freq2 > max_complexity:\n",
    "        keywords = random.sample(candidate_keywords, len(vertices_ids))\n",
    "        keywords_frequencies = qq_module.get_keywords_frequencies(keywords, pois_df, column_names = ['amenity','shop','tourism','landuse','leisure','building'])\n",
    "        max_freq1, max_freq2 = sorted(list(keywords_frequencies.values()), reverse=True)[:2]\n",
    "    #print('Chosen keywords and their frequencies:', keywords_frequencies, ' / Complexity:', max_freq1*max_freq2)\n",
    "\n",
    "    vertices = [ qq_module.SpatialVertex(vertices_ids[i], keywords[i]) for i in range(len(vertices_ids)) ]\n",
    "\n",
    "    edges = []\n",
    "    for i, edge in enumerate(structure):\n",
    "        lij = random.random()*1000 #choose a number between 0 and 1km\n",
    "        min_uij, max_uij = lij + 200, lij + 2000\n",
    "        uij = random.random()*(max_uij-min_uij) + min_uij#choose a number between lij and 4km\n",
    "        sign = random.choice(['<','>','<>','-'])\n",
    "        relation_type = np.random.choice([None, 'related'], size = 1, p = [1-qualitative_prob, qualitative_prob])[0]\n",
    "        if relation_type == 'related':\n",
    "            #relation = random.choice(['equals', 'touches', 'covers', 'coveredby', 'overlaps', 'disjoint'])\n",
    "            relation = random.choice(['contains', 'within', 'intersects', 'disjoint'])\n",
    "        else:\n",
    "            relation = None\n",
    "        edges.append(qq_module.SpatialEdge(i, vertices[edge[0]], vertices[edge[1]], lij, uij, sign, relation))\n",
    "    sp = qq_module.SpatialPatternGraph(vertices, edges)\n",
    "    sp.qualitative_prob = qualitative_prob\n",
    "    return sp"
   ]
  },
  {
   "cell_type": "code",
   "execution_count": 3,
   "metadata": {},
   "outputs": [
    {
     "name": "stdout",
     "output_type": "stream",
     "text": [
      "Total most frequent keywords: 186\n"
     ]
    }
   ],
   "source": [
    "pois = qq2.read_df_csv(data_dir = 'data/london_pois_bbox_100perc.csv')\n",
    "\n",
    "amenity_totals = pois.amenity.value_counts()\n",
    "shop_totals = pois.shop.value_counts()\n",
    "tourism_totals = pois.tourism.value_counts()\n",
    "landuse_totals = pois.landuse.value_counts()\n",
    "leisure_totals = pois.leisure.value_counts()\n",
    "building_totals = pois.building.value_counts()\n",
    "\n",
    "\n",
    "most_frequent_keywords = amenity_totals[amenity_totals>30].index.tolist() + \\\n",
    "    shop_totals[shop_totals>30].index.tolist() + \\\n",
    "    tourism_totals[tourism_totals>30].index.tolist() + \\\n",
    "    landuse_totals[landuse_totals>30].index.tolist() + \\\n",
    "    leisure_totals[leisure_totals>30].index.tolist() + \\\n",
    "    building_totals[building_totals>30].index.tolist()\n",
    "\n",
    "most_frequent_keywords = list(set(most_frequent_keywords))\n",
    "\n",
    "print('Total most frequent keywords:', len(most_frequent_keywords))"
   ]
  },
  {
   "cell_type": "code",
   "execution_count": 4,
   "metadata": {},
   "outputs": [
    {
     "data": {
      "text/plain": [
       "['attraction', 'e_cigarette', 'toys', 'supermarket', 'recreation_ground']"
      ]
     },
     "execution_count": 4,
     "metadata": {},
     "output_type": "execute_result"
    }
   ],
   "source": [
    "most_frequent_keywords[:5]"
   ]
  },
  {
   "cell_type": "code",
   "execution_count": 5,
   "metadata": {},
   "outputs": [
    {
     "name": "stdout",
     "output_type": "stream",
     "text": [
      "Total generated spatial patterns: 128\n"
     ]
    }
   ],
   "source": [
    "#gerar padrões\n",
    "spatial_patterns = []\n",
    "seeds = []\n",
    "seeds_by_pattern = {}\n",
    "pattern_structures = [\n",
    "    [(0,1)], \n",
    "    [(0,1),(1,2)],\n",
    "    [(0,1),(1,2),(2,0)],\n",
    "    [(0,1),(1,2),(2,3)],\n",
    "    [(0,1),(1,2),(1,3)],\n",
    "    [(0,1),(1,2),(2,3),(3,0)],\n",
    "    [(0,1),(1,2),(2,3),(3,1)],\n",
    "    [(0,1),(1,2),(2,3),(3,1),(3,4)],\n",
    "    #[(0,1),(1,2),(2,3),(3,4),(4,0)],\n",
    "    #[(0,1),(1,2),(2,3),(3,4),(4,1)],\n",
    "    # [(0,1),(1,2),(2,3),(3,4),(4,1),(1,5)],\n",
    "    # [(0,1),(1,2),(2,3),(3,4),(4,5),(5,0),(2,5)],\n",
    "]\n",
    "\n",
    "qualitative_probs = [1, 1/2, 1/3, 1/4]\n",
    "num_repetitions = 4\n",
    "\n",
    "for i in range(num_repetitions):\n",
    "    for structure in pattern_structures:\n",
    "        for qualitative_prob in qualitative_probs:\n",
    "            sp = generate_pattern_from_structure(structure, most_frequent_keywords, qq2, qualitative_prob, pois_df=pois)\n",
    "            spatial_patterns.append(sp)\n",
    "\n",
    "print('Total generated spatial patterns:', len(spatial_patterns))\n",
    "\n"
   ]
  },
  {
   "cell_type": "code",
   "execution_count": 6,
   "metadata": {},
   "outputs": [],
   "source": [
    "with open('spatial_patterns_for_experiments_london.pkl', 'wb') as f:\n",
    "    pickle.dump(spatial_patterns, f)"
   ]
  }
 ],
 "metadata": {
  "kernelspec": {
   "display_name": "Python 3 (ipykernel)",
   "language": "python",
   "name": "python3"
  },
  "language_info": {
   "codemirror_mode": {
    "name": "ipython",
    "version": 3
   },
   "file_extension": ".py",
   "mimetype": "text/x-python",
   "name": "python",
   "nbconvert_exporter": "python",
   "pygments_lexer": "ipython3",
   "version": "3.11.8"
  }
 },
 "nbformat": 4,
 "nbformat_minor": 4
}
