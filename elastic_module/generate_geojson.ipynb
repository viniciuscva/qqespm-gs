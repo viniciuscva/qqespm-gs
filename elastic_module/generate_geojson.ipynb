{
 "cells": [
  {
   "cell_type": "code",
   "execution_count": 1,
   "id": "e063f5f8-a965-4472-8a26-edb133ed75ab",
   "metadata": {},
   "outputs": [],
   "source": [
    "import __init__\n",
    "import qqespm_quadtree_CGA as qq2\n",
    "import geojson\n",
    "import shapely\n",
    "import os\n",
    "import json\n",
    "geojson.geometry.DEFAULT_PRECISION = 6"
   ]
  },
  {
   "cell_type": "code",
   "execution_count": 2,
   "id": "ecaf7ccd",
   "metadata": {},
   "outputs": [],
   "source": [
    "column_names = ['amenity','shop','tourism','landuse','leisure','building']"
   ]
  },
  {
   "cell_type": "code",
   "execution_count": 3,
   "id": "8295d50e",
   "metadata": {},
   "outputs": [],
   "source": [
    "def pois_to_geojson_features(pois):\n",
    "    features = []\n",
    "    for i, row in pois.iterrows():\n",
    "        geometry = json.loads(shapely.to_geojson(row['geometry']))\n",
    "        centroid = json.loads(shapely.to_geojson(row['centroid']))\n",
    "        keywords = []\n",
    "        for column in column_names:\n",
    "            if type(row[column]) == str:\n",
    "                keywords.append(row[column])\n",
    "        if type(row['name']) == str:\n",
    "            name = row['name']\n",
    "        else:\n",
    "            name = ''\n",
    "        feature = geojson.Feature(geometry=geometry, \n",
    "                                  centroid=centroid,\n",
    "                    properties={'keywords': keywords,\n",
    "                                'name': name,\n",
    "                                'osm_id': row['osm_id']})\n",
    "        #feature['centroid'] = geojson.geometry.Point(shapely.geometry.shape(feature['geometry']).centroid.coords[0])\n",
    "        features.append(feature)\n",
    "        \n",
    "    features = geojson.FeatureCollection(features)\n",
    "    print('Total features imported:', len(features.features))\n",
    "    print('Geometry types found:', set([features['features'][i]['geometry']['type'] for i in range(len(features['features']))]))\n",
    "    return features"
   ]
  },
  {
   "cell_type": "code",
   "execution_count": 4,
   "id": "a93cb6ac",
   "metadata": {},
   "outputs": [],
   "source": [
    "percs = ['20perc', '40perc', '60perc', '80perc', '100perc']\n",
    "base_dataset_filename = 'london_pois_bbox'"
   ]
  },
  {
   "cell_type": "code",
   "execution_count": 5,
   "id": "e0a32c4a",
   "metadata": {},
   "outputs": [
    {
     "name": "stdout",
     "output_type": "stream",
     "text": [
      "Total features imported: 25595\n",
      "Geometry types found: {'Polygon'}\n",
      "Total features imported: 51190\n",
      "Geometry types found: {'Polygon'}\n",
      "Total features imported: 76785\n",
      "Geometry types found: {'Polygon'}\n",
      "Total features imported: 102380\n",
      "Geometry types found: {'Polygon'}\n",
      "Total features imported: 127975\n",
      "Geometry types found: {'Polygon'}\n"
     ]
    }
   ],
   "source": [
    "pois = {}\n",
    "features = {}\n",
    "for perc in percs:\n",
    "    pois[perc] = qq2.read_df_csv(data_dir = f'../data/{base_dataset_filename}_{perc}.csv')\n",
    "    features[perc] = pois_to_geojson_features(pois[perc])\n",
    "    with open(f'../data/{base_dataset_filename}_{perc}.geojson', 'w') as f:\n",
    "        geojson.dump(features[perc], f)"
   ]
  },
  {
   "cell_type": "code",
   "execution_count": null,
   "id": "172e8b86",
   "metadata": {},
   "outputs": [],
   "source": []
  }
 ],
 "metadata": {
  "kernelspec": {
   "display_name": "Python 3 (ipykernel)",
   "language": "python",
   "name": "python3"
  },
  "language_info": {
   "codemirror_mode": {
    "name": "ipython",
    "version": 3
   },
   "file_extension": ".py",
   "mimetype": "text/x-python",
   "name": "python",
   "nbconvert_exporter": "python",
   "pygments_lexer": "ipython3",
   "version": "3.8.10"
  }
 },
 "nbformat": 4,
 "nbformat_minor": 5
}
