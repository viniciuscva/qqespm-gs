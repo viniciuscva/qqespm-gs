{
 "cells": [
  {
   "cell_type": "code",
   "execution_count": 1,
   "id": "864c73c6-e22a-4fa2-ab12-bf3f2e7441a4",
   "metadata": {},
   "outputs": [],
   "source": [
    "from elasticsearch import Elasticsearch\n",
    "from elasticsearch.helpers import bulk\n",
    "import geojson\n",
    "import json\n",
    "import urllib3\n",
    "urllib3.disable_warnings(urllib3.exceptions.InsecureRequestWarning)\n",
    "from time import time\n",
    "import shapely"
   ]
  },
  {
   "cell_type": "code",
   "execution_count": 2,
   "id": "7b19127f",
   "metadata": {},
   "outputs": [],
   "source": [
    "base_index_name = \"london_pois_bbox_index\""
   ]
  },
  {
   "cell_type": "code",
   "execution_count": 3,
   "id": "334d3df1-ffa2-469c-9108-8cfe225e3608",
   "metadata": {},
   "outputs": [],
   "source": [
    "ELASTIC_PASSWORD = open('../config/elasticpassword').read()"
   ]
  },
  {
   "cell_type": "code",
   "execution_count": 4,
   "id": "017249a6-1349-4054-a04e-eecc3c4d0564",
   "metadata": {},
   "outputs": [
    {
     "data": {
      "text/plain": [
       "ObjectApiResponse({'name': 'senna', 'cluster_name': 'elasticsearch', 'cluster_uuid': 'RvD8-FfeQ4ezwvkqJbgipQ', 'version': {'number': '8.13.1', 'build_flavor': 'default', 'build_type': 'deb', 'build_hash': '9287f29bba5e270bd51d557b8daccb7d118ba247', 'build_date': '2024-03-29T10:05:29.787251984Z', 'build_snapshot': False, 'lucene_version': '9.10.0', 'minimum_wire_compatibility_version': '7.17.0', 'minimum_index_compatibility_version': '7.0.0'}, 'tagline': 'You Know, for Search'})"
      ]
     },
     "execution_count": 4,
     "metadata": {},
     "output_type": "execute_result"
    }
   ],
   "source": [
    "es = Elasticsearch(\n",
    "    ['https://localhost:9200'],\n",
    "    request_timeout=1000,\n",
    "    basic_auth=('elastic', ELASTIC_PASSWORD),\n",
    "    verify_certs=False,\n",
    "    ssl_show_warn=False\n",
    ")\n",
    "es.info()"
   ]
  },
  {
   "cell_type": "code",
   "execution_count": 5,
   "id": "ccd20ba4",
   "metadata": {},
   "outputs": [],
   "source": [
    "def get_and_fix_problematic_indices(features):\n",
    "    problematic_indices = []\n",
    "    for i, feature in enumerate(features['features']):\n",
    "        if feature['geometry']['type'] != 'Point':\n",
    "            geom = shapely.Polygon(feature['geometry']['coordinates'][0])\n",
    "            if not geom.is_valid:\n",
    "                geom = geom.convex_hull\n",
    "                features['features'][i]['geometry'] = geojson.loads(shapely.to_geojson(geom))\n",
    "                #print(f'Invalid polygon for index {i}, applied convex_hull', feature['properties'], feature['geometry'])\n",
    "                problematic_indices.append(i)\n",
    "    print('Total fixed problematic indices:', len(problematic_indices))\n",
    "    return problematic_indices"
   ]
  },
  {
   "cell_type": "code",
   "execution_count": 6,
   "id": "98d8837c",
   "metadata": {},
   "outputs": [],
   "source": [
    "def reset_index(es, index_name):\n",
    "    try:\n",
    "        es.indices.delete(index=index_name)\n",
    "    except Exception as e:\n",
    "        pass\n",
    "    \n",
    "    if not es.indices.exists(index=index_name).body:\n",
    "       es.indices.create(index=index_name, ignore=400, mappings= {\n",
    "            'properties':{\n",
    "                'geometry': {\n",
    "                    'type': 'geo_shape'\n",
    "                },\n",
    "                'centroid': {\n",
    "                    'type': 'geo_point'\n",
    "                }\n",
    "            }\n",
    "        })"
   ]
  },
  {
   "cell_type": "code",
   "execution_count": 7,
   "id": "7faf1b79",
   "metadata": {},
   "outputs": [],
   "source": [
    "def populate_index(es, features, index_name):\n",
    "    actions = [\n",
    "        {\n",
    "            \"_index\": index_name,\n",
    "            \"_source\": feature\n",
    "        } for i, feature in enumerate(features['features']) # if i not in problematic_indices\n",
    "    ]\n",
    "\n",
    "    bulk(es, actions)"
   ]
  },
  {
   "cell_type": "code",
   "execution_count": 8,
   "id": "bc24dc00",
   "metadata": {},
   "outputs": [],
   "source": [
    "percs = ['20perc', '40perc', '60perc', '80perc', '100perc']\n",
    "base_dataset_filename = 'london_pois_bbox'"
   ]
  },
  {
   "cell_type": "code",
   "execution_count": 9,
   "id": "de11f452",
   "metadata": {},
   "outputs": [
    {
     "name": "stdout",
     "output_type": "stream",
     "text": [
      "Total features read: 25595\n",
      "Total fixed problematic indices: 0\n"
     ]
    },
    {
     "name": "stderr",
     "output_type": "stream",
     "text": [
      "/tmp/ipykernel_31420/2959365502.py:8: DeprecationWarning: Passing transport options in the API method is deprecated. Use 'Elasticsearch.options()' instead.\n",
      "  es.indices.create(index=index_name, ignore=400, mappings= {\n"
     ]
    },
    {
     "name": "stdout",
     "output_type": "stream",
     "text": [
      "Created/Reset and populated index: london_pois_bbox_index_20perc\n",
      "Total features read: 51190\n",
      "Total fixed problematic indices: 0\n"
     ]
    },
    {
     "name": "stderr",
     "output_type": "stream",
     "text": [
      "/tmp/ipykernel_31420/2959365502.py:8: DeprecationWarning: Passing transport options in the API method is deprecated. Use 'Elasticsearch.options()' instead.\n",
      "  es.indices.create(index=index_name, ignore=400, mappings= {\n"
     ]
    },
    {
     "name": "stdout",
     "output_type": "stream",
     "text": [
      "Created/Reset and populated index: london_pois_bbox_index_40perc\n",
      "Total features read: 76785\n",
      "Total fixed problematic indices: 0\n"
     ]
    },
    {
     "name": "stderr",
     "output_type": "stream",
     "text": [
      "/tmp/ipykernel_31420/2959365502.py:8: DeprecationWarning: Passing transport options in the API method is deprecated. Use 'Elasticsearch.options()' instead.\n",
      "  es.indices.create(index=index_name, ignore=400, mappings= {\n"
     ]
    },
    {
     "name": "stdout",
     "output_type": "stream",
     "text": [
      "Created/Reset and populated index: london_pois_bbox_index_60perc\n",
      "Total features read: 102380\n",
      "Total fixed problematic indices: 0\n"
     ]
    },
    {
     "name": "stderr",
     "output_type": "stream",
     "text": [
      "/tmp/ipykernel_31420/2959365502.py:8: DeprecationWarning: Passing transport options in the API method is deprecated. Use 'Elasticsearch.options()' instead.\n",
      "  es.indices.create(index=index_name, ignore=400, mappings= {\n"
     ]
    },
    {
     "name": "stdout",
     "output_type": "stream",
     "text": [
      "Created/Reset and populated index: london_pois_bbox_index_80perc\n",
      "Total features read: 127975\n",
      "Total fixed problematic indices: 0\n"
     ]
    },
    {
     "name": "stderr",
     "output_type": "stream",
     "text": [
      "/tmp/ipykernel_31420/2959365502.py:8: DeprecationWarning: Passing transport options in the API method is deprecated. Use 'Elasticsearch.options()' instead.\n",
      "  es.indices.create(index=index_name, ignore=400, mappings= {\n"
     ]
    },
    {
     "name": "stdout",
     "output_type": "stream",
     "text": [
      "Created/Reset and populated index: london_pois_bbox_index_100perc\n"
     ]
    }
   ],
   "source": [
    "features = {}\n",
    "for perc in percs:\n",
    "    with open(f'../data/{base_dataset_filename}_{perc}.geojson') as f:\n",
    "        features[perc] = geojson.load(f)\n",
    "    print('Total features read:', len(features[perc]['features']))\n",
    "    get_and_fix_problematic_indices(features[perc])\n",
    "    index_name = f'{base_index_name}_{perc}'\n",
    "    reset_index(es, index_name)\n",
    "    populate_index(es, features[perc], index_name)\n",
    "    print('Created/Reset and populated index:', index_name)"
   ]
  },
  {
   "cell_type": "code",
   "execution_count": 36,
   "id": "b28283da-939d-4a32-9fb2-3fb6165107c7",
   "metadata": {},
   "outputs": [],
   "source": [
    "#for feature in features.features:\n",
    "#    feature['centroid'] = geojson.geometry.Point(shapely.geometry.shape(feature['geometry']).centroid.coords[0])"
   ]
  },
  {
   "cell_type": "code",
   "execution_count": 40,
   "id": "b24b4ece-2bfa-49df-b836-c947e6abaa03",
   "metadata": {},
   "outputs": [],
   "source": [
    "# reset_index(es, index_name = 'paraiba-pois-osm-index3')\n",
    "# t0 = time()\n",
    "# for i,feature in enumerate(features['features']):\n",
    "#     try:\n",
    "#         resp = es.index(index=\"paraiba-pois-osm-index3\", id=i+1, document=feature)\n",
    "#         if i%1000==0:\n",
    "#             print(str(i+1)+'º instance:',resp['result'])\n",
    "#     except:\n",
    "#         print('It was not possible to process the entry in index', i)\n",
    "# print(f'Completed in {time() - t0} seconds')"
   ]
  },
  {
   "cell_type": "code",
   "execution_count": 37,
   "id": "b03e6de8-f00b-4f42-aa62-ae378e2bde06",
   "metadata": {},
   "outputs": [
    {
     "data": {
      "text/plain": [
       "8073"
      ]
     },
     "execution_count": 37,
     "metadata": {},
     "output_type": "execute_result"
    }
   ],
   "source": [
    "# result = es.search(body={\"query\": {\"match_all\": {}}, \"size\":1000}, index = 'paraiba-pois-osm-index5_20perc')\n",
    "# result['hits']['total']['value']"
   ]
  }
 ],
 "metadata": {
  "kernelspec": {
   "display_name": "Python 3 (ipykernel)",
   "language": "python",
   "name": "python3"
  },
  "language_info": {
   "codemirror_mode": {
    "name": "ipython",
    "version": 3
   },
   "file_extension": ".py",
   "mimetype": "text/x-python",
   "name": "python",
   "nbconvert_exporter": "python",
   "pygments_lexer": "ipython3",
   "version": "3.8.10"
  }
 },
 "nbformat": 4,
 "nbformat_minor": 5
}
