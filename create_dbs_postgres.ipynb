{
 "cells": [
  {
   "cell_type": "code",
   "execution_count": 1,
   "metadata": {},
   "outputs": [],
   "source": [
    "import psycopg2\n",
    "from psycopg2 import sql\n",
    "from psycopg2.extensions import ISOLATION_LEVEL_AUTOCOMMIT # <-- ADD THIS LINE\n",
    "import qqespm_sql_imp as qqsql2\n",
    "import os"
   ]
  },
  {
   "cell_type": "code",
   "execution_count": 2,
   "metadata": {},
   "outputs": [],
   "source": [
    "percs = ['20perc','40perc','60perc','80perc','100perc']\n",
    "base_db_name = 'london_pois_5500'\n",
    "db_names = [f'{base_db_name}_{perc}' for perc in percs]"
   ]
  },
  {
   "cell_type": "code",
   "execution_count": 3,
   "metadata": {},
   "outputs": [],
   "source": [
    "connector_info = f\"\"\"[postgresql]\n",
    "host=localhost\n",
    "database=postgres\n",
    "user=postgres\n",
    "password=\"\"\"\n",
    "\n",
    "if not os.path.isfile('config/general_connector.ini'):\n",
    "    with open('config/general_connector.ini', 'w') as f:\n",
    "        f.write(connector_info)\n",
    "\n",
    "# NOW, UPDATE THE PASSWORD IN THE GENERATED FILE"
   ]
  },
  {
   "cell_type": "code",
   "execution_count": 4,
   "metadata": {},
   "outputs": [],
   "source": [
    "# -- Drop remaining (except this connection)\n",
    "# SELECT pg_terminate_backend(pg_stat_activity.pid)\n",
    "# FROM pg_stat_activity\n",
    "# WHERE pg_stat_activity.datname = 'osm_paraiba_pois_20perc' \n",
    "#   AND pid <> pg_backend_pid();"
   ]
  },
  {
   "cell_type": "code",
   "execution_count": 3,
   "metadata": {},
   "outputs": [
    {
     "name": "stdout",
     "output_type": "stream",
     "text": [
      "Successfully created or reset database london_pois_5500_20perc\n",
      "Successfully created or reset database london_pois_5500_40perc\n",
      "Successfully created or reset database london_pois_5500_60perc\n",
      "Successfully created or reset database london_pois_5500_80perc\n",
      "Successfully created or reset database london_pois_5500_100perc\n"
     ]
    }
   ],
   "source": [
    "conn = qqsql2.establish_postgis_connection(config_filename = 'config/general_connector.ini')\n",
    "cur = conn.cursor()\n",
    "for db_name in db_names:\n",
    "    try:\n",
    "        cur.execute(sql.SQL(\"DROP DATABASE IF EXISTS {}\").format(sql.Identifier(db_name)))\n",
    "        cur.execute(sql.SQL(\"CREATE DATABASE {}\").format(sql.Identifier(db_name)))\n",
    "        conn.commit()\n",
    "        print(f'Successfully created or reset database {db_name}')\n",
    "    except Exception as e:\n",
    "        print(f'ERROR: {e}')\n",
    "cur.close()\n",
    "conn.close()"
   ]
  },
  {
   "cell_type": "code",
   "execution_count": 4,
   "metadata": {},
   "outputs": [],
   "source": [
    "connector_info = \"\"\"[postgresql]\n",
    "host=localhost\n",
    "database={}\n",
    "user=postgres\n",
    "password=\"\"\"\n",
    "\n",
    "for db_name in db_names:\n",
    "    with open(f'config/{db_name}.ini', 'w') as f:\n",
    "        f.write(connector_info.format(db_name))\n",
    "\n",
    "# NOW, UPDATE THE PASSWORDS IN THE GENERATED FILES"
   ]
  },
  {
   "cell_type": "code",
   "execution_count": 4,
   "metadata": {},
   "outputs": [],
   "source": [
    "# CHANGE FOR YOUR WINDOWS/LINUX DIRECTORIES\n",
    "csv_files_dir = 'Documents/qqespm_implementation/data'\n",
    "base_csv_filename = 'london_pois_5500'"
   ]
  },
  {
   "cell_type": "code",
   "execution_count": 5,
   "metadata": {},
   "outputs": [
    {
     "name": "stdout",
     "output_type": "stream",
     "text": [
      "Successfully created extension hstore on database london_pois_5500_20perc\n",
      "Successfully created extension postgis on database london_pois_5500_20perc\n",
      "Successfully created table pois on database london_pois_5500_20perc\n",
      "Successfully imported csv data into table pois on database london_pois_5500_20perc\n",
      "Successfully added primary key column id in table pois on database london_pois_5500_20perc\n",
      "Successfully created GIST spatial index for geometry column in table pois on database london_pois_5500_20perc\n",
      "Successfully created GIST spatial index for centroid column in table pois on database london_pois_5500_20perc\n",
      "Successfully created SPGIST spatial index for geometry column in table pois on database london_pois_5500_20perc\n",
      "Successfully created SPGIST spatial index for centroid column in table pois on database london_pois_5500_20perc\n",
      "Successfully set statement_timeout to 360000000 on database london_pois_5500_20perc\n",
      "-----------------------------------------------------\n",
      "Successfully created extension hstore on database london_pois_5500_40perc\n",
      "Successfully created extension postgis on database london_pois_5500_40perc\n",
      "Successfully created table pois on database london_pois_5500_40perc\n",
      "Successfully imported csv data into table pois on database london_pois_5500_40perc\n",
      "Successfully added primary key column id in table pois on database london_pois_5500_40perc\n",
      "Successfully created GIST spatial index for geometry column in table pois on database london_pois_5500_40perc\n",
      "Successfully created GIST spatial index for centroid column in table pois on database london_pois_5500_40perc\n",
      "Successfully created SPGIST spatial index for geometry column in table pois on database london_pois_5500_40perc\n",
      "Successfully created SPGIST spatial index for centroid column in table pois on database london_pois_5500_40perc\n",
      "Successfully set statement_timeout to 360000000 on database london_pois_5500_40perc\n",
      "-----------------------------------------------------\n",
      "Successfully created extension hstore on database london_pois_5500_60perc\n",
      "Successfully created extension postgis on database london_pois_5500_60perc\n",
      "Successfully created table pois on database london_pois_5500_60perc\n",
      "Successfully imported csv data into table pois on database london_pois_5500_60perc\n",
      "Successfully added primary key column id in table pois on database london_pois_5500_60perc\n",
      "Successfully created GIST spatial index for geometry column in table pois on database london_pois_5500_60perc\n",
      "Successfully created GIST spatial index for centroid column in table pois on database london_pois_5500_60perc\n",
      "Successfully created SPGIST spatial index for geometry column in table pois on database london_pois_5500_60perc\n",
      "Successfully created SPGIST spatial index for centroid column in table pois on database london_pois_5500_60perc\n",
      "Successfully set statement_timeout to 360000000 on database london_pois_5500_60perc\n",
      "-----------------------------------------------------\n",
      "Successfully created extension hstore on database london_pois_5500_80perc\n",
      "Successfully created extension postgis on database london_pois_5500_80perc\n",
      "Successfully created table pois on database london_pois_5500_80perc\n",
      "Successfully imported csv data into table pois on database london_pois_5500_80perc\n",
      "Successfully added primary key column id in table pois on database london_pois_5500_80perc\n",
      "Successfully created GIST spatial index for geometry column in table pois on database london_pois_5500_80perc\n",
      "Successfully created GIST spatial index for centroid column in table pois on database london_pois_5500_80perc\n",
      "Successfully created SPGIST spatial index for geometry column in table pois on database london_pois_5500_80perc\n",
      "Successfully created SPGIST spatial index for centroid column in table pois on database london_pois_5500_80perc\n",
      "Successfully set statement_timeout to 360000000 on database london_pois_5500_80perc\n",
      "-----------------------------------------------------\n",
      "Successfully created extension hstore on database london_pois_5500_100perc\n",
      "Successfully created extension postgis on database london_pois_5500_100perc\n",
      "Successfully created table pois on database london_pois_5500_100perc\n",
      "Successfully imported csv data into table pois on database london_pois_5500_100perc\n",
      "Successfully added primary key column id in table pois on database london_pois_5500_100perc\n",
      "Successfully created GIST spatial index for geometry column in table pois on database london_pois_5500_100perc\n",
      "Successfully created GIST spatial index for centroid column in table pois on database london_pois_5500_100perc\n",
      "Successfully created SPGIST spatial index for geometry column in table pois on database london_pois_5500_100perc\n",
      "Successfully created SPGIST spatial index for centroid column in table pois on database london_pois_5500_100perc\n",
      "Successfully set statement_timeout to 360000000 on database london_pois_5500_100perc\n",
      "-----------------------------------------------------\n"
     ]
    }
   ],
   "source": [
    "create_pois_table_statement = \"\"\"CREATE TABLE pois(\n",
    "osm_id bigint,\n",
    "name varchar(200),\n",
    "amenity varchar(50),\n",
    "shop varchar(50),\n",
    "tourism varchar(50),\n",
    "landuse varchar(50),\n",
    "leisure varchar(50),\n",
    "building varchar(50),\n",
    "geometry geometry,\n",
    "centroid geometry\n",
    ")\n",
    "\"\"\"\n",
    "\n",
    "for perc in percs:\n",
    "    db_name = f'{base_db_name}_{perc}'\n",
    "    conn = qqsql2.establish_postgis_connection(config_filename = f'config/{db_name}.ini')\n",
    "    cur = conn.cursor()\n",
    "    try:\n",
    "        cur.execute(sql.SQL('create extension hstore'))\n",
    "        print(f'Successfully created extension hstore on database {db_name}')\n",
    "        cur.execute(sql.SQL('create extension postgis'))\n",
    "        print(f'Successfully created extension postgis on database {db_name}')\n",
    "        cur.execute(sql.SQL(create_pois_table_statement))\n",
    "        print(f'Successfully created table pois on database {db_name}')\n",
    "        #import_csv_statement = \"COPY pois FROM {} DELIMITERS ',' CSV HEADER\"\n",
    "        #print(import_csv_statement.format(sql.Identifier(csv_files_dir).as_string(), sql.Identifier(base_csv_filename).as_string(), sql.Identifier(perc).as_string()))\n",
    "        cur.execute(sql.SQL(\"COPY pois FROM '{}' DELIMITERS ',' CSV HEADER\".format(f'{csv_files_dir}/{base_csv_filename}_{perc}.csv')))\n",
    "        print(f'Successfully imported csv data into table pois on database {db_name}')\n",
    "        cur.execute(sql.SQL('ALTER TABLE pois ADD COLUMN id SERIAL PRIMARY KEY'))\n",
    "        print(f'Successfully added primary key column id in table pois on database {db_name}')\n",
    "\n",
    "        cur.execute(sql.SQL(\"CREATE INDEX {} ON pois USING GIST ( geometry )\").format(sql.Identifier(f'spatial_index_london_{perc}_5500geom_pois')))\n",
    "        print(f'Successfully created GIST spatial index for geometry column in table pois on database {db_name}')\n",
    "        cur.execute(sql.SQL(\"CREATE INDEX {} ON pois USING GIST ( centroid )\").format(sql.Identifier(f'spatial_index_london_{perc}_5500centroid_pois')))\n",
    "        print(f'Successfully created GIST spatial index for centroid column in table pois on database {db_name}')\n",
    "\n",
    "        cur.execute(sql.SQL(\"CREATE INDEX {} ON pois USING SPGIST ( geometry )\").format(sql.Identifier(f'spatial_index_sp_london_{perc}_5500geom_pois')))\n",
    "        print(f'Successfully created SPGIST spatial index for geometry column in table pois on database {db_name}')\n",
    "        cur.execute(sql.SQL(\"CREATE INDEX {} ON pois USING SPGIST ( centroid )\").format(sql.Identifier(f'spatial_index_sp_london_{perc}_5500centroid_pois')))\n",
    "        print(f'Successfully created SPGIST spatial index for centroid column in table pois on database {db_name}')\n",
    "\n",
    "        cur.execute(sql.SQL('SET statement_timeout TO 360000000 ;'))\n",
    "        print(f'Successfully set statement_timeout to 360000000 on database {db_name}')\n",
    "        print('-----------------------------------------------------')\n",
    "        conn.commit()\n",
    "    except Exception as e:\n",
    "        print(f'ERROR: {e}')\n",
    "    cur.close()\n",
    "    conn.close()\n",
    "    "
   ]
  },
  {
   "cell_type": "code",
   "execution_count": 6,
   "metadata": {},
   "outputs": [
    {
     "data": {
      "text/plain": [
       "[(3239540779,\n",
       "  'Banh Mi Bay',\n",
       "  'restaurant',\n",
       "  None,\n",
       "  None,\n",
       "  None,\n",
       "  None,\n",
       "  None,\n",
       "  '01030000000100000005000000617138F3AB39B8BFBA6B09F9A0C149407138F3AB3940B8BF560E2DB29DC1494082FFAD64C746B8BFBA6B09F9A0C149407138F3AB3940B8BF1DC9E53FA4C14940617138F3AB39B8BFBA6B09F9A0C14940',\n",
       "  '01010000007138F3AB3940B8BFBA6B09F9A0C14940',\n",
       "  1)]"
      ]
     },
     "execution_count": 6,
     "metadata": {},
     "output_type": "execute_result"
    }
   ],
   "source": [
    "db_name = f'{base_db_name}_100perc'\n",
    "conn = qqsql2.establish_postgis_connection(config_filename = f'config/{db_name}.ini')\n",
    "cur = conn.cursor()\n",
    "cur.execute('select * from pois limit 1')\n",
    "results = cur.fetchall()\n",
    "cur.close()\n",
    "results"
   ]
  },
  {
   "cell_type": "code",
   "execution_count": null,
   "metadata": {},
   "outputs": [],
   "source": []
  }
 ],
 "metadata": {
  "kernelspec": {
   "display_name": "Python 3 (ipykernel)",
   "language": "python",
   "name": "python3"
  },
  "language_info": {
   "codemirror_mode": {
    "name": "ipython",
    "version": 3
   },
   "file_extension": ".py",
   "mimetype": "text/x-python",
   "name": "python",
   "nbconvert_exporter": "python",
   "pygments_lexer": "ipython3",
   "version": "3.8.10"
  }
 },
 "nbformat": 4,
 "nbformat_minor": 4
}
