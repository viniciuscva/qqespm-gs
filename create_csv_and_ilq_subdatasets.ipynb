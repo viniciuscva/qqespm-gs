{
 "cells": [
  {
   "cell_type": "code",
   "execution_count": 1,
   "metadata": {},
   "outputs": [],
   "source": [
    "import pandas as pd\n",
    "import geopandas\n",
    "import os\n",
    "import qqespm_quadtree_CGA as qq2\n",
    "import pickle"
   ]
  },
  {
   "cell_type": "code",
   "execution_count": 2,
   "metadata": {},
   "outputs": [],
   "source": [
    "data_dir = 'data/london_pois_5500.csv'\n",
    "pois = pd.read_csv(data_dir,  low_memory=False)\n",
    "pois['geometry'] = geopandas.GeoSeries.from_wkt(pois['geometry'])\n",
    "pois['centroid'] = geopandas.GeoSeries.from_wkt(pois['centroid'])"
   ]
  },
  {
   "cell_type": "code",
   "execution_count": 3,
   "metadata": {},
   "outputs": [
    {
     "data": {
      "text/html": [
       "<div>\n",
       "<style scoped>\n",
       "    .dataframe tbody tr th:only-of-type {\n",
       "        vertical-align: middle;\n",
       "    }\n",
       "\n",
       "    .dataframe tbody tr th {\n",
       "        vertical-align: top;\n",
       "    }\n",
       "\n",
       "    .dataframe thead th {\n",
       "        text-align: right;\n",
       "    }\n",
       "</style>\n",
       "<table border=\"1\" class=\"dataframe\">\n",
       "  <thead>\n",
       "    <tr style=\"text-align: right;\">\n",
       "      <th></th>\n",
       "      <th>osm_id</th>\n",
       "      <th>name</th>\n",
       "      <th>amenity</th>\n",
       "      <th>shop</th>\n",
       "      <th>tourism</th>\n",
       "      <th>landuse</th>\n",
       "      <th>leisure</th>\n",
       "      <th>building</th>\n",
       "      <th>geometry</th>\n",
       "      <th>centroid</th>\n",
       "    </tr>\n",
       "  </thead>\n",
       "  <tbody>\n",
       "    <tr>\n",
       "      <th>0</th>\n",
       "      <td>995869070</td>\n",
       "      <td>MP Express Telecom Ltd</td>\n",
       "      <td>NaN</td>\n",
       "      <td>mobile_phone</td>\n",
       "      <td>NaN</td>\n",
       "      <td>NaN</td>\n",
       "      <td>NaN</td>\n",
       "      <td>NaN</td>\n",
       "      <td>POLYGON ((-0.12896 51.51178, -0.12897 51.51178...</td>\n",
       "      <td>POINT (-0.12898 51.51182)</td>\n",
       "    </tr>\n",
       "    <tr>\n",
       "      <th>1</th>\n",
       "      <td>1216229012</td>\n",
       "      <td>NaN</td>\n",
       "      <td>NaN</td>\n",
       "      <td>NaN</td>\n",
       "      <td>NaN</td>\n",
       "      <td>NaN</td>\n",
       "      <td>garden</td>\n",
       "      <td>NaN</td>\n",
       "      <td>POLYGON ((-0.09660 51.51328, -0.09658 51.51325...</td>\n",
       "      <td>POINT (-0.09681 51.51328)</td>\n",
       "    </tr>\n",
       "    <tr>\n",
       "      <th>2</th>\n",
       "      <td>256782037</td>\n",
       "      <td>King's Cross Methodist Church</td>\n",
       "      <td>place_of_worship</td>\n",
       "      <td>NaN</td>\n",
       "      <td>NaN</td>\n",
       "      <td>NaN</td>\n",
       "      <td>NaN</td>\n",
       "      <td>church</td>\n",
       "      <td>POLYGON ((-0.12246 51.52989, -0.12249 51.52992...</td>\n",
       "      <td>POINT (-0.12233 51.53001)</td>\n",
       "    </tr>\n",
       "    <tr>\n",
       "      <th>3</th>\n",
       "      <td>9306966309</td>\n",
       "      <td>Tank &amp; Paddle Minster Court</td>\n",
       "      <td>bar</td>\n",
       "      <td>NaN</td>\n",
       "      <td>NaN</td>\n",
       "      <td>NaN</td>\n",
       "      <td>NaN</td>\n",
       "      <td>NaN</td>\n",
       "      <td>POLYGON ((-0.08123 51.51092, -0.08133 51.51082...</td>\n",
       "      <td>POINT (-0.08133 51.51092)</td>\n",
       "    </tr>\n",
       "    <tr>\n",
       "      <th>4</th>\n",
       "      <td>414489471</td>\n",
       "      <td>NaN</td>\n",
       "      <td>NaN</td>\n",
       "      <td>NaN</td>\n",
       "      <td>NaN</td>\n",
       "      <td>residential</td>\n",
       "      <td>NaN</td>\n",
       "      <td>NaN</td>\n",
       "      <td>POLYGON ((-0.10249 51.49547, -0.10266 51.49543...</td>\n",
       "      <td>POINT (-0.10322 51.49646)</td>\n",
       "    </tr>\n",
       "  </tbody>\n",
       "</table>\n",
       "</div>"
      ],
      "text/plain": [
       "       osm_id                           name           amenity          shop  \\\n",
       "0   995869070         MP Express Telecom Ltd               NaN  mobile_phone   \n",
       "1  1216229012                            NaN               NaN           NaN   \n",
       "2   256782037  King's Cross Methodist Church  place_of_worship           NaN   \n",
       "3  9306966309    Tank & Paddle Minster Court               bar           NaN   \n",
       "4   414489471                            NaN               NaN           NaN   \n",
       "\n",
       "  tourism      landuse leisure building  \\\n",
       "0     NaN          NaN     NaN      NaN   \n",
       "1     NaN          NaN  garden      NaN   \n",
       "2     NaN          NaN     NaN   church   \n",
       "3     NaN          NaN     NaN      NaN   \n",
       "4     NaN  residential     NaN      NaN   \n",
       "\n",
       "                                            geometry  \\\n",
       "0  POLYGON ((-0.12896 51.51178, -0.12897 51.51178...   \n",
       "1  POLYGON ((-0.09660 51.51328, -0.09658 51.51325...   \n",
       "2  POLYGON ((-0.12246 51.52989, -0.12249 51.52992...   \n",
       "3  POLYGON ((-0.08123 51.51092, -0.08133 51.51082...   \n",
       "4  POLYGON ((-0.10249 51.49547, -0.10266 51.49543...   \n",
       "\n",
       "                    centroid  \n",
       "0  POINT (-0.12898 51.51182)  \n",
       "1  POINT (-0.09681 51.51328)  \n",
       "2  POINT (-0.12233 51.53001)  \n",
       "3  POINT (-0.08133 51.51092)  \n",
       "4  POINT (-0.10322 51.49646)  "
      ]
     },
     "execution_count": 3,
     "metadata": {},
     "output_type": "execute_result"
    }
   ],
   "source": [
    "pois.head()"
   ]
  },
  {
   "cell_type": "code",
   "execution_count": 4,
   "metadata": {},
   "outputs": [
    {
     "data": {
      "text/plain": [
       "(38000, 10)"
      ]
     },
     "execution_count": 4,
     "metadata": {},
     "output_type": "execute_result"
    }
   ],
   "source": [
    "pois.shape"
   ]
  },
  {
   "cell_type": "code",
   "execution_count": 5,
   "metadata": {},
   "outputs": [
    {
     "data": {
      "text/plain": [
       "array(['Polygon'], dtype=object)"
      ]
     },
     "execution_count": 5,
     "metadata": {},
     "output_type": "execute_result"
    }
   ],
   "source": [
    "pois['geometry'].apply(lambda e: e.geom_type).unique()"
   ]
  },
  {
   "cell_type": "code",
   "execution_count": 6,
   "metadata": {},
   "outputs": [],
   "source": [
    "pois_20perc = pois.sample(frac = 0.2)\n",
    "pois_40perc = pois.sample(frac = 0.4)\n",
    "pois_60perc = pois.sample(frac = 0.6)\n",
    "pois_80perc = pois.sample(frac = 0.8)\n",
    "pois_100perc = pois.sample(frac = 1.0)"
   ]
  },
  {
   "cell_type": "code",
   "execution_count": 7,
   "metadata": {},
   "outputs": [],
   "source": [
    "pois_20perc.to_csv('data/london_pois_5500_20perc.csv', index = False)\n",
    "pois_40perc.to_csv('data/london_pois_5500_40perc.csv', index = False)\n",
    "pois_60perc.to_csv('data/london_pois_5500_60perc.csv', index = False)\n",
    "pois_80perc.to_csv('data/london_pois_5500_80perc.csv', index = False)\n",
    "pois_100perc.to_csv('data/london_pois_5500_100perc.csv', index = False)"
   ]
  },
  {
   "cell_type": "code",
   "execution_count": 8,
   "metadata": {},
   "outputs": [],
   "source": [
    "ilq_base_folder = 'ilquadtrees_london_5500'\n",
    "base_csv_filename = 'data/london_pois_5500'\n",
    "percs = ['20perc', '40perc', '60perc', '80perc', '100perc']\n",
    "keyword_columns=['amenity','shop','tourism','landuse','leisure','building']"
   ]
  },
  {
   "cell_type": "code",
   "execution_count": 9,
   "metadata": {},
   "outputs": [],
   "source": [
    "if not os.path.isdir(f\"{ilq_base_folder}\"):\n",
    "    os.mkdir(f\"{ilq_base_folder}\")\n",
    "for perc in percs:\n",
    "    if not os.path.isdir(f\"{ilq_base_folder}/{perc}\"):\n",
    "        os.mkdir(f\"{ilq_base_folder}/{perc}\")"
   ]
  },
  {
   "cell_type": "code",
   "execution_count": 10,
   "metadata": {},
   "outputs": [],
   "source": [
    "import os\n",
    "\n",
    "for perc in percs:\n",
    "    for file in os.listdir(f\"{ilq_base_folder}/{perc}\"):\n",
    "        os.remove(f\"{ilq_base_folder}/{perc}/{file}\")"
   ]
  },
  {
   "cell_type": "code",
   "execution_count": 14,
   "metadata": {},
   "outputs": [],
   "source": [
    "ilq = {}\n",
    "for perc in percs:\n",
    "    ilq[perc] = qq2.generate_remote_ilquadtree(f'{base_csv_filename}_{perc}.csv', ilq_folder=f'{ilq_base_folder}/{perc}', max_depth=6, max_items=500, keyword_columns=keyword_columns)"
   ]
  },
  {
   "cell_type": "code",
   "execution_count": 15,
   "metadata": {},
   "outputs": [],
   "source": [
    "for perc in percs:\n",
    "    with open(f'{ilq_base_folder}/ilq_{perc}.pkl', 'wb') as f:\n",
    "        pickle.dump(ilq[perc], f)"
   ]
  },
  {
   "cell_type": "code",
   "execution_count": null,
   "metadata": {},
   "outputs": [],
   "source": []
  }
 ],
 "metadata": {
  "kernelspec": {
   "display_name": "Python 3 (ipykernel)",
   "language": "python",
   "name": "python3"
  },
  "language_info": {
   "codemirror_mode": {
    "name": "ipython",
    "version": 3
   },
   "file_extension": ".py",
   "mimetype": "text/x-python",
   "name": "python",
   "nbconvert_exporter": "python",
   "pygments_lexer": "ipython3",
   "version": "3.8.10"
  }
 },
 "nbformat": 4,
 "nbformat_minor": 4
}
